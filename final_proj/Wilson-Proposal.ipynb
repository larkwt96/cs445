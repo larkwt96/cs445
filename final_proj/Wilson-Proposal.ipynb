{
 "cells": [
  {
   "cell_type": "markdown",
   "metadata": {},
   "source": [
    "$\\newcommand{\\xv}{\\mathbf{x}}\n",
    "\\newcommand{\\Xv}{\\mathbf{X}}\n",
    "\\newcommand{\\yv}{\\mathbf{y}}\n",
    "\\newcommand{\\zv}{\\mathbf{z}}\n",
    "\\newcommand{\\av}{\\mathbf{a}}\n",
    "\\newcommand{\\Wv}{\\mathbf{W}}\n",
    "\\newcommand{\\wv}{\\mathbf{w}}\n",
    "\\newcommand{\\tv}{\\mathbf{t}}\n",
    "\\newcommand{\\Tv}{\\mathbf{T}}\n",
    "\\newcommand{\\muv}{\\boldsymbol{\\mu}}\n",
    "\\newcommand{\\sigmav}{\\boldsymbol{\\sigma}}\n",
    "\\newcommand{\\phiv}{\\boldsymbol{\\phi}}\n",
    "\\newcommand{\\Phiv}{\\boldsymbol{\\Phi}}\n",
    "\\newcommand{\\Sigmav}{\\boldsymbol{\\Sigma}}\n",
    "\\newcommand{\\Lambdav}{\\boldsymbol{\\Lambda}}\n",
    "\\newcommand{\\half}{\\frac{1}{2}}\n",
    "\\newcommand{\\argmax}[1]{\\underset{#1}{\\operatorname{argmax}}}\n",
    "\\newcommand{\\argmin}[1]{\\underset{#1}{\\operatorname{argmin}}}$"
   ]
  },
  {
   "cell_type": "markdown",
   "metadata": {},
   "source": [
    "# Project Proposal for CS445, Spring, 2019"
   ]
  },
  {
   "cell_type": "markdown",
   "metadata": {},
   "source": [
    "# Echo State Networks for Time Series Analysis with a Focus on Anomoly Detection"
   ]
  },
  {
   "cell_type": "markdown",
   "metadata": {},
   "source": [
    "Lucas Wilson"
   ]
  },
  {
   "cell_type": "markdown",
   "metadata": {},
   "source": [
    "## Introduction\n",
    "\n",
    "I will implement a type of recurrent network called the Echo State Network to be able to forecast time series data. Assuming it can fit the data well, then when the model begins to predict poorly, we can argue that an anomoly has occured. I will be building a tool to detect these anomolies.\n",
    "\n",
    "I am interested in learning how to accurately solve time series forecasting problems, but with deep learning models instead of traditional statistical models. I am also interesed in learning the statisitcs in detecting anomolies, and how it applies when using a deep learning model instead of normal statistical approaches. I will look into different methods for training the model, both supervised and unsupervised, but it may be the case that only one of the methods is standard, and I will only use one method. That depends on timing and my research."
   ]
  },
  {
   "cell_type": "markdown",
   "metadata": {},
   "source": [
    "## Methods"
   ]
  },
  {
   "cell_type": "markdown",
   "metadata": {},
   "source": [
    "First, I will be implementing the echo state network (which I have already done for another project). Using that, I will fit the data to an EKG heart beat dataset. Using the model, we can run predictions on EKG data. When the model diverges a statistically significant amount, then an anomoly has occured. \n",
    "\n",
    "As the model predicts EKG data, it will diverge from the actual data if run long enough, so we will have to keep the model inline with the current data as it happens. This means, we will have to rerun the model frequently so it is fit to the current state of EKG. Then, error in the predictions won't be due to long term accumulated errors. The model I have already implemented isn't built to support online learning and there isn't existing code to have it do this, so that will be extra work I will do for this project. Further, I will have to research proper ways to calculate confidence intervals to prove statistically significant anomolies. That way, I'm not just using another project as this one.\n",
    "\n",
    "Second, I will collect data for EKG. There is data available online, and I can look at differences in performance cross datasets (since batch effects will be an issue if multiple data sources are used). Some methods might have to be applied to adjust for batch effects. Although, normalizing the EKG data may solve the issue as well.\n",
    "\n",
    "Another solution to batch effects could be to train the model per heart beat sample. It won't be able to detect anomolies early on while the model is still training and therefore not confident, but it will be an unsupervised approach that doesn't depend on knowing what normal heart rates look like. This will be more of an unsupervised learning approach.\n",
    "\n",
    "Finally, I will be building the report on the results of my findings. I can look at performance in detecting anomolies. I can look at what happens after an anomoly stabilizes and if the model can predict a subsequent anomoly as well (will anomoly data disrupt the model so much that it can no longer accurately forecast when the heartrates return to normal).\n"
   ]
  },
  {
   "cell_type": "markdown",
   "metadata": {},
   "source": [
    "## Possible Results\n",
    "\n",
    "The EKG data might be simple enough (since it seems really periodic, perfect for ESNs) that it fits the data really well. Detecting anomolies will be very easy to do. \n",
    "\n",
    "Using the unsupervised approach, detecting anomolies early on might not work. Also, if anomolies occur and they are used to train the model, will the model still be able to detect the anomolies? I think this could happen."
   ]
  },
  {
   "cell_type": "markdown",
   "metadata": {},
   "source": [
    "## Timeline\n",
    "\n",
    "- Apr 20 - research how to detect anomoly with statistics of forecasting error values\n",
    "- Apr 23 - adapt ESN to perform anomoly detection\n",
    "- Apr 25 - identify datasets\n",
    "- Apr 27 - perform unsupervised and supervised learning approaches\n",
    "- May 5 - write final report"
   ]
  }
 ],
 "metadata": {
  "kernelspec": {
   "display_name": "Python 3",
   "language": "python",
   "name": "python3"
  },
  "language_info": {
   "codemirror_mode": {
    "name": "ipython",
    "version": 3
   },
   "file_extension": ".py",
   "mimetype": "text/x-python",
   "name": "python",
   "nbconvert_exporter": "python",
   "pygments_lexer": "ipython3",
   "version": "3.6.5"
  }
 },
 "nbformat": 4,
 "nbformat_minor": 1
}
