{
 "cells": [
  {
   "cell_type": "markdown",
   "metadata": {},
   "source": [
    "Lucas Wilson"
   ]
  },
  {
   "cell_type": "markdown",
   "metadata": {},
   "source": [
    "# A4 Classifying Hand-Drawn Digits"
   ]
  },
  {
   "cell_type": "markdown",
   "metadata": {},
   "source": [
    "## Overview\n",
    "\n",
    "Here we look at the difference between fully connected nerual networks and convolutional neural networks. Convolutional networks have a window which looks at part of the data as opposed to the entire image. This can help identify patterns by looking at smaller portions of the image, and it preserves the two dimensional relationship between the input vector. For imaging problems, this is a really useful idea, and we will see that it outperforms the traditional neural network. In this case, the numbers are pretty well centered, but if they were less centered, then the convolutional neural network will identify this shifting much better than the traditional network."
   ]
  },
  {
   "cell_type": "markdown",
   "metadata": {},
   "source": [
    "## Provided Code and Data"
   ]
  },
  {
   "cell_type": "markdown",
   "metadata": {},
   "source": [
    "Download [A4.zip](http://www.cs.colostate.edu/~anderson/cs445/notebooks/A4.zip) and unzip it.  You should have two files, `neuralnetworks_pytorch.py` and `mnist.pkl.gz`. \n",
    "\n",
    "Load the data using the following code."
   ]
  },
  {
   "cell_type": "code",
   "execution_count": 1,
   "metadata": {},
   "outputs": [],
   "source": [
    "import itertools\n",
    "import numpy as np\n",
    "import gzip\n",
    "import pickle"
   ]
  },
  {
   "cell_type": "code",
   "execution_count": 2,
   "metadata": {},
   "outputs": [
    {
     "data": {
      "text/plain": [
       "((50000, 1, 28, 28), (50000,), (10000, 1, 28, 28), (10000,))"
      ]
     },
     "execution_count": 2,
     "metadata": {},
     "output_type": "execute_result"
    }
   ],
   "source": [
    "with gzip.open('mnist.pkl.gz', 'rb') as f:\n",
    "    train_set, valid_set, test_set = pickle.load(f, encoding='latin1')\n",
    "    \n",
    "Xtrain = train_set[0].reshape((-1, 1, 28, 28))\n",
    "Ttrain = train_set[1]\n",
    "Xtest = test_set[0].reshape((-1, 1, 28, 28))\n",
    "Ttest = test_set[1]\n",
    "\n",
    "Xtrain.shape, Ttrain.shape, Xtest.shape, Ttest.shape"
   ]
  },
  {
   "cell_type": "markdown",
   "metadata": {},
   "source": [
    "The second dimension of `Xtrain` and `Xtest` is 1, representing the number of values, or channels, in each pixel.  These images are gray scale so have just one intensity."
   ]
  },
  {
   "cell_type": "markdown",
   "metadata": {},
   "source": [
    "Import the provided neural network code."
   ]
  },
  {
   "cell_type": "code",
   "execution_count": 3,
   "metadata": {},
   "outputs": [],
   "source": [
    "import neuralnetworks_pytorch as nn\n",
    "from neuralnetworks_pytorch import NeuralNetworkClassifier_Pytorch\n",
    "import matplotlib.pyplot as plt"
   ]
  },
  {
   "cell_type": "markdown",
   "metadata": {},
   "source": [
    "This code defines the class `NeuralNetworkClassifier_Pytorch`.  The constructor for this class accepts the arguments\n",
    "\n",
    "  * `n_inputs`: (int) number of input components, which is the number of channels for a convolutional net, or the total number of pixels for a fully connected network\n",
    "  * `n_hiddens_by_layer`: (list of ints) number of units in each hidden layer\n",
    "  * `n_outputs`: (int) number of classes in the data\n",
    "  * `relu`: (boolean, default False) if True, relu is used as the activation function. If False, the activation function is tanh\n",
    "  * `gpu`: (boolean, default False) If True and this machine has a compatible GPU, run the network on the GPU\n",
    "  * `n_conv_layers`: (int, default 0) 0 to create all layers as fully connected, else create this many convolutional layers as the initial layers in the network\n",
    "  * `windows`: (list of ints, default [ ]) if all layers are fully connected, this should be empty. If network contains convolutional layers this must be a list of length equal to `n_conv_layers`, with an int for each layer specifying the height and width of the convolution window\n",
    "  * `strides`: (list of ints, default [ ]) if all layers are fully connected, this should be empty. If network contains convolutional layers this must be a list of length equal to `n_conv_layers`, with an int for each layer specifying the horizontal and vertical stride ofthe convolution window\n",
    "  * `input_height_width`: (int or None, default value) height and width of input image but only needed for convolutional network"
   ]
  },
  {
   "cell_type": "markdown",
   "metadata": {},
   "source": [
    "Then train this neural network using the `train` function\n",
    "\n",
    "  * `Xtrain`: (np.ndarray of floats) training samples along first dimension\n",
    "  * `Ttrain`: (np.ndarray of longs) one-dimensional vector of integers indicating class of each training sample\n",
    "  * `Xtest`: (np.ndarray of floats) testing samples along first dimension\n",
    "  * `Ttest`: (np.ndarray of longs) one-dimensional vector of integers indicating class of each testing sample,\n",
    "  * `n_iterations`: (int) number of optimization steps, sometimes called epochs\n",
    "  * `batch_size`: (int) number of samples in each batch to calculate gradient for and update all weights\n",
    "  * `learning_rate`: (float) factor multiplying gradient to determine step size"
   ]
  },
  {
   "cell_type": "markdown",
   "metadata": {},
   "source": [
    "Once a neural net is created, with a line like\n",
    "\n",
    "     nnet = nn.NeuralNetworkClassifier_Pytorch(1, [10, 20, 5], 10, \n",
    "               n_conv_layers=2, windows=[5, 7], strides=[1, 2], input_height_width=28)\n",
    "\n",
    "it can be trained with a line like\n",
    "\n",
    "     nnet.train(Xtrain, Ttrain, Xtest, Ttest, 200, 100, 0.001)\n",
    "     \n",
    "and predictions are made with\n",
    "\n",
    "     classes, probs = nnet.use(Xtrain)\n",
    "\n",
    "where `classes` are the predicted classes for each sample and `prob` is the probability of each class for each sample."
   ]
  },
  {
   "cell_type": "markdown",
   "metadata": {},
   "source": [
    "To determine the precent of predicted classes that are correct, use the following function."
   ]
  },
  {
   "cell_type": "code",
   "execution_count": 4,
   "metadata": {},
   "outputs": [],
   "source": [
    "def percent_correct(actual, predicted):\n",
    "    return 100 * np.mean(actual == predicted)"
   ]
  },
  {
   "cell_type": "markdown",
   "metadata": {},
   "source": [
    "## Required Section 1: Fully-Connected Networks (40 points)"
   ]
  },
  {
   "cell_type": "markdown",
   "metadata": {},
   "source": [
    "1. (15 points) Using `batch_size` of 100, `learning_rate` of 0.001 and `n_hiddens_by_layer` of `[20, 20, 20]`, try a variety of `n_iterations` values and plot the percent of testing data correctly classified versus `n_iterations`.\n",
    "\n",
    "2. (15 points) Using the best value of `n_iterations`, try at least five different values of `n_hiddens_by_layer` and plot the percent of testing data correctly classified.\n",
    "\n",
    "3. (10 points) Describe what you see in your plots with at least two sentences for each plot."
   ]
  },
  {
   "cell_type": "markdown",
   "metadata": {},
   "source": [
    "### Finding Best n_iterations"
   ]
  },
  {
   "cell_type": "code",
   "execution_count": 5,
   "metadata": {
    "scrolled": true
   },
   "outputs": [
    {
     "name": "stdout",
     "output_type": "stream",
     "text": [
      "Using n_iterations: 1\n",
      "NeuralNetworkClassifier_Pytorch created on cpu\n",
      "Iteration 1, cost = 0.8697, acc = 90.82\n",
      "Using n_iterations: 10\n",
      "NeuralNetworkClassifier_Pytorch created on cpu\n",
      "Iteration 1, cost = 0.8258, acc = 91.34\n",
      "Iteration 2, cost = 0.2951, acc = 93.18\n",
      "Iteration 3, cost = 0.2270, acc = 94.19\n",
      "Iteration 4, cost = 0.1930, acc = 94.60\n",
      "Iteration 5, cost = 0.1706, acc = 95.00\n",
      "Iteration 6, cost = 0.1543, acc = 95.10\n",
      "Iteration 7, cost = 0.1414, acc = 95.24\n",
      "Iteration 8, cost = 0.1309, acc = 95.38\n",
      "Iteration 9, cost = 0.1222, acc = 95.49\n",
      "Iteration 10, cost = 0.1149, acc = 95.48\n",
      "Using n_iterations: 20\n",
      "NeuralNetworkClassifier_Pytorch created on cpu\n",
      "Iteration 2, cost = 0.3071, acc = 92.58\n",
      "Iteration 4, cost = 0.1918, acc = 94.39\n",
      "Iteration 6, cost = 0.1504, acc = 94.78\n",
      "Iteration 8, cost = 0.1265, acc = 94.91\n",
      "Iteration 10, cost = 0.1108, acc = 95.01\n",
      "Iteration 12, cost = 0.0994, acc = 95.12\n",
      "Iteration 14, cost = 0.0902, acc = 95.13\n",
      "Iteration 16, cost = 0.0825, acc = 95.29\n",
      "Iteration 18, cost = 0.0758, acc = 95.27\n",
      "Iteration 20, cost = 0.0698, acc = 95.23\n",
      "Using n_iterations: 50\n",
      "NeuralNetworkClassifier_Pytorch created on cpu\n",
      "Iteration 5, cost = 0.1670, acc = 94.72\n",
      "Iteration 10, cost = 0.1134, acc = 95.46\n",
      "Iteration 15, cost = 0.0879, acc = 95.48\n",
      "Iteration 20, cost = 0.0710, acc = 95.34\n",
      "Iteration 25, cost = 0.0586, acc = 95.24\n",
      "Iteration 30, cost = 0.0491, acc = 95.09\n",
      "Iteration 35, cost = 0.0436, acc = 94.92\n",
      "Iteration 40, cost = 0.0389, acc = 95.06\n",
      "Iteration 45, cost = 0.0337, acc = 94.88\n",
      "Iteration 50, cost = 0.0323, acc = 94.76\n",
      "Using n_iterations: 60\n",
      "NeuralNetworkClassifier_Pytorch created on cpu\n",
      "Iteration 6, cost = 0.1663, acc = 94.44\n",
      "Iteration 12, cost = 0.1116, acc = 95.25\n",
      "Iteration 18, cost = 0.0861, acc = 95.28\n",
      "Iteration 24, cost = 0.0687, acc = 95.25\n",
      "Iteration 30, cost = 0.0554, acc = 94.98\n",
      "Iteration 36, cost = 0.0479, acc = 95.00\n",
      "Iteration 42, cost = 0.0400, acc = 94.89\n",
      "Iteration 48, cost = 0.0355, acc = 94.56\n",
      "Iteration 54, cost = 0.0308, acc = 94.52\n",
      "Iteration 60, cost = 0.0300, acc = 94.17\n",
      "Using n_iterations: 70\n",
      "NeuralNetworkClassifier_Pytorch created on cpu\n",
      "Iteration 7, cost = 0.1407, acc = 94.95\n",
      "Iteration 14, cost = 0.0896, acc = 95.57\n",
      "Iteration 21, cost = 0.0660, acc = 95.59\n",
      "Iteration 28, cost = 0.0495, acc = 95.63\n",
      "Iteration 35, cost = 0.0406, acc = 95.43\n",
      "Iteration 42, cost = 0.0330, acc = 95.35\n",
      "Iteration 49, cost = 0.0286, acc = 95.26\n",
      "Iteration 56, cost = 0.0259, acc = 95.30\n",
      "Iteration 63, cost = 0.0244, acc = 95.08\n",
      "Iteration 70, cost = 0.0244, acc = 95.12\n",
      "Using n_iterations: 80\n",
      "NeuralNetworkClassifier_Pytorch created on cpu\n",
      "Iteration 8, cost = 0.1235, acc = 95.31\n",
      "Iteration 16, cost = 0.0804, acc = 95.55\n",
      "Iteration 24, cost = 0.0596, acc = 95.08\n",
      "Iteration 32, cost = 0.0477, acc = 94.98\n",
      "Iteration 40, cost = 0.0398, acc = 95.06\n",
      "Iteration 48, cost = 0.0346, acc = 95.11\n",
      "Iteration 56, cost = 0.0281, acc = 95.24\n",
      "Iteration 64, cost = 0.0274, acc = 95.22\n",
      "Iteration 72, cost = 0.0227, acc = 95.19\n",
      "Iteration 80, cost = 0.0218, acc = 95.01\n",
      "Using n_iterations: 100\n",
      "NeuralNetworkClassifier_Pytorch created on cpu\n",
      "Iteration 10, cost = 0.1085, acc = 95.09\n",
      "Iteration 20, cost = 0.0674, acc = 95.17\n",
      "Iteration 30, cost = 0.0476, acc = 95.14\n",
      "Iteration 40, cost = 0.0377, acc = 94.98\n",
      "Iteration 50, cost = 0.0285, acc = 94.70\n",
      "Iteration 60, cost = 0.0237, acc = 94.88\n",
      "Iteration 70, cost = 0.0230, acc = 94.81\n",
      "Iteration 80, cost = 0.0177, acc = 94.76\n",
      "Iteration 90, cost = 0.0179, acc = 94.88\n",
      "Iteration 100, cost = 0.0133, acc = 94.92\n",
      "Using n_iterations: 150\n",
      "NeuralNetworkClassifier_Pytorch created on cpu\n",
      "Iteration 15, cost = 0.0881, acc = 95.19\n",
      "Iteration 30, cost = 0.0475, acc = 95.20\n",
      "Iteration 45, cost = 0.0322, acc = 95.15\n",
      "Iteration 60, cost = 0.0229, acc = 95.24\n",
      "Iteration 75, cost = 0.0208, acc = 95.44\n",
      "Iteration 90, cost = 0.0129, acc = 95.15\n",
      "Iteration 105, cost = 0.0120, acc = 95.12\n",
      "Iteration 120, cost = 0.0115, acc = 95.06\n",
      "Iteration 135, cost = 0.0118, acc = 94.82\n",
      "Iteration 150, cost = 0.0161, acc = 94.74\n",
      "Using n_iterations: 200\n",
      "NeuralNetworkClassifier_Pytorch created on cpu\n",
      "Iteration 20, cost = 0.0748, acc = 95.41\n",
      "Iteration 40, cost = 0.0390, acc = 95.28\n",
      "Iteration 60, cost = 0.0240, acc = 94.70\n",
      "Iteration 80, cost = 0.0206, acc = 94.43\n",
      "Iteration 100, cost = 0.0115, acc = 94.55\n",
      "Iteration 120, cost = 0.0129, acc = 94.75\n",
      "Iteration 140, cost = 0.0093, acc = 94.67\n",
      "Iteration 160, cost = 0.0136, acc = 94.48\n",
      "Iteration 180, cost = 0.0137, acc = 94.63\n",
      "Iteration 200, cost = 0.0105, acc = 94.70\n",
      "Using n_iterations: 300\n",
      "NeuralNetworkClassifier_Pytorch created on cpu\n",
      "Iteration 30, cost = 0.0396, acc = 95.31\n",
      "Iteration 60, cost = 0.0205, acc = 95.11\n",
      "Iteration 90, cost = 0.0116, acc = 95.09\n",
      "Iteration 120, cost = 0.0078, acc = 94.98\n",
      "Iteration 150, cost = 0.0044, acc = 94.96\n",
      "Iteration 180, cost = 0.0061, acc = 94.95\n",
      "Iteration 210, cost = 0.0018, acc = 95.04\n",
      "Iteration 240, cost = 0.0011, acc = 95.07\n",
      "Iteration 270, cost = 0.0035, acc = 95.06\n",
      "Iteration 300, cost = 0.0006, acc = 95.09\n",
      "Using n_iterations: 500\n",
      "NeuralNetworkClassifier_Pytorch created on cpu\n",
      "Iteration 50, cost = 0.0305, acc = 94.72\n",
      "Iteration 100, cost = 0.0167, acc = 94.56\n",
      "Iteration 150, cost = 0.0068, acc = 94.62\n",
      "Iteration 200, cost = 0.0113, acc = 94.53\n",
      "Iteration 250, cost = 0.0041, acc = 94.52\n",
      "Iteration 300, cost = 0.0060, acc = 94.38\n",
      "Iteration 350, cost = 0.0019, acc = 94.47\n",
      "Iteration 400, cost = 0.0051, acc = 94.44\n",
      "Iteration 450, cost = 0.0076, acc = 94.12\n",
      "Iteration 500, cost = 0.0432, acc = 94.18\n",
      "Using n_iterations: 750\n",
      "NeuralNetworkClassifier_Pytorch created on cpu\n",
      "Iteration 75, cost = 0.0178, acc = 95.35\n",
      "Iteration 150, cost = 0.0082, acc = 94.45\n",
      "Iteration 225, cost = 0.0128, acc = 94.68\n",
      "Iteration 300, cost = 0.0062, acc = 94.79\n",
      "Iteration 375, cost = 0.0052, acc = 94.43\n",
      "Iteration 450, cost = 0.0020, acc = 94.61\n",
      "Iteration 525, cost = 0.0052, acc = 94.48\n",
      "Iteration 600, cost = 0.0003, acc = 94.65\n",
      "Iteration 675, cost = 0.0007, acc = 94.47\n",
      "Iteration 750, cost = 0.0003, acc = 94.59\n",
      "Using n_iterations: 1000\n",
      "NeuralNetworkClassifier_Pytorch created on cpu\n",
      "Iteration 100, cost = 0.0146, acc = 94.53\n",
      "Iteration 200, cost = 0.0119, acc = 94.24\n",
      "Iteration 300, cost = 0.0080, acc = 94.25\n",
      "Iteration 400, cost = 0.0034, acc = 94.33\n",
      "Iteration 500, cost = 0.0025, acc = 94.12\n",
      "Iteration 600, cost = 0.0090, acc = 94.02\n",
      "Iteration 700, cost = 0.0067, acc = 93.81\n",
      "Iteration 800, cost = 0.0126, acc = 93.87\n",
      "Iteration 900, cost = 0.0045, acc = 93.70\n",
      "Iteration 1000, cost = 0.0004, acc = 93.76\n"
     ]
    }
   ],
   "source": [
    "def run1(n_iterations):\n",
    "    nnet = NeuralNetworkClassifier_Pytorch(\n",
    "        n_inputs=1*28*28,\n",
    "        n_hiddens_by_layer=[20, 20, 20],\n",
    "        n_outputs=10,\n",
    "        #relu=,\n",
    "        #gpu=,\n",
    "        #n_conv_layers=,\n",
    "        #windows=,\n",
    "        #strides=,\n",
    "        #input_height_width=,\n",
    "    )\n",
    "    nnet.train(\n",
    "        Xtrain=Xtrain,\n",
    "        Ttrain=Ttrain,\n",
    "        Xtest=Xtest,\n",
    "        Ttest=Ttest,\n",
    "        n_iterations=n_iterations,\n",
    "        batch_size=100,\n",
    "        learning_rate=0.001,\n",
    "    )\n",
    "    return nnet\n",
    "\n",
    "n_iterations_test_values = [1, 10, 20, 50, 60, 70, 80, 100, 150, 200, 300, 500, 750, 1000]\n",
    "num_it_test_accuracy = []\n",
    "for n_iterations in n_iterations_test_values:\n",
    "    print('Using n_iterations:', n_iterations)\n",
    "    nnet = run1(n_iterations)\n",
    "    Ytest, _, _ = nnet.use(Xtest)\n",
    "    num_correct = np.sum(Ytest == Ttest)\n",
    "    num_it_test_accuracy.append(num_correct / Ytest.shape[0])"
   ]
  },
  {
   "cell_type": "code",
   "execution_count": 38,
   "metadata": {},
   "outputs": [
    {
     "data": {
      "image/png": "[encoded data removed]",
      "text/plain": [
       "<Figure size 432x288 with 1 Axes>"
      ]
     },
     "metadata": {
      "needs_background": "light"
     },
     "output_type": "display_data"
    }
   ],
   "source": [
    "plt.title('Section 1, Part 1, Test Percentage Correct vs Num Iterations')\n",
    "plt.xlabel('Num Iterations')\n",
    "plt.ylabel('Test Percentage Correct')\n",
    "plt.xticks(range(len(n_iterations_test_values)), n_iterations_test_values, rotation=90, horizontalalignment='left')\n",
    "plt.plot(num_it_test_accuracy, 'o-');"
   ]
  },
  {
   "cell_type": "code",
   "execution_count": 7,
   "metadata": {},
   "outputs": [
    {
     "name": "stdout",
     "output_type": "stream",
     "text": [
      "best n_iterations: 10\n"
     ]
    }
   ],
   "source": [
    "best_index = np.argmax(num_it_test_accuracy)\n",
    "best_n_iterations = n_iterations_test_values[best_index]\n",
    "print('best n_iterations:', best_n_iterations, )"
   ]
  },
  {
   "cell_type": "markdown",
   "metadata": {},
   "source": [
    "Like we'd expect, the performance drops as iterations increases. The x axis is not to scale since it was hard to read otherwise. The best seems to be 10, and 1 performs horribly, but 90% is pretty good. This is likely due to overfitting, so it looks like we don't need many iterations before it converges."
   ]
  },
  {
   "cell_type": "markdown",
   "metadata": {},
   "source": [
    "### Finding Best Network Structure"
   ]
  },
  {
   "cell_type": "code",
   "execution_count": 8,
   "metadata": {
    "scrolled": true
   },
   "outputs": [
    {
     "name": "stdout",
     "output_type": "stream",
     "text": [
      "Using nnet shape: [1]\n",
      "NeuralNetworkClassifier_Pytorch created on cpu\n",
      "Iteration 1, cost = 2.0589, acc = 23.12\n",
      "Iteration 2, cost = 1.9350, acc = 25.88\n",
      "Iteration 3, cost = 1.8913, acc = 27.77\n",
      "Iteration 4, cost = 1.8566, acc = 27.73\n",
      "Iteration 5, cost = 1.8338, acc = 28.52\n",
      "Iteration 6, cost = 1.8184, acc = 29.01\n",
      "Iteration 7, cost = 1.8061, acc = 29.74\n",
      "Iteration 8, cost = 1.7952, acc = 30.42\n",
      "Iteration 9, cost = 1.7846, acc = 30.75\n",
      "Iteration 10, cost = 1.7733, acc = 30.61\n",
      "Using nnet shape: [1, 1]\n",
      "NeuralNetworkClassifier_Pytorch created on cpu\n",
      "Iteration 1, cost = 2.2543, acc = 18.65\n",
      "Iteration 2, cost = 2.0325, acc = 19.14\n",
      "Iteration 3, cost = 1.9560, acc = 20.77\n",
      "Iteration 4, cost = 1.9240, acc = 20.83\n",
      "Iteration 5, cost = 1.9078, acc = 21.28\n",
      "Iteration 6, cost = 1.8982, acc = 21.32\n",
      "Iteration 7, cost = 1.8915, acc = 21.44\n",
      "Iteration 8, cost = 1.8861, acc = 21.64\n",
      "Iteration 9, cost = 1.8815, acc = 21.93\n",
      "Iteration 10, cost = 1.8771, acc = 22.20\n",
      "Using nnet shape: [1, 1, 1]\n",
      "NeuralNetworkClassifier_Pytorch created on cpu\n",
      "Iteration 1, cost = 2.3962, acc = 9.82\n",
      "Iteration 2, cost = 2.0967, acc = 21.01\n",
      "Iteration 3, cost = 1.9100, acc = 20.85\n",
      "Iteration 4, cost = 1.8549, acc = 20.90\n",
      "Iteration 5, cost = 1.8323, acc = 20.93\n",
      "Iteration 6, cost = 1.8201, acc = 21.07\n",
      "Iteration 7, cost = 1.8113, acc = 21.42\n",
      "Iteration 8, cost = 1.8036, acc = 21.89\n",
      "Iteration 9, cost = 1.7967, acc = 22.25\n",
      "Iteration 10, cost = 1.7897, acc = 22.70\n",
      "Using nnet shape: [1, 1, 1, 1]\n",
      "NeuralNetworkClassifier_Pytorch created on cpu\n",
      "Iteration 1, cost = 2.3481, acc = 19.95\n",
      "Iteration 2, cost = 2.0220, acc = 19.73\n",
      "Iteration 3, cost = 1.9227, acc = 19.72\n",
      "Iteration 4, cost = 1.8994, acc = 20.34\n",
      "Iteration 5, cost = 1.8867, acc = 20.60\n",
      "Iteration 6, cost = 1.8773, acc = 20.80\n",
      "Iteration 7, cost = 1.8697, acc = 21.08\n",
      "Iteration 8, cost = 1.8633, acc = 21.30\n",
      "Iteration 9, cost = 1.8576, acc = 21.44\n",
      "Iteration 10, cost = 1.8525, acc = 21.55\n",
      "Using nnet shape: [1, 1, 1, 1, 1]\n",
      "NeuralNetworkClassifier_Pytorch created on cpu\n",
      "Iteration 1, cost = 2.3350, acc = 14.78\n",
      "Iteration 2, cost = 2.0239, acc = 20.82\n",
      "Iteration 3, cost = 1.8966, acc = 20.69\n",
      "Iteration 4, cost = 1.8638, acc = 21.27\n",
      "Iteration 5, cost = 1.8470, acc = 21.34\n",
      "Iteration 6, cost = 1.8355, acc = 21.58\n",
      "Iteration 7, cost = 1.8279, acc = 21.86\n",
      "Iteration 8, cost = 1.8224, acc = 21.84\n",
      "Iteration 9, cost = 1.8181, acc = 21.97\n",
      "Iteration 10, cost = 1.8145, acc = 22.26\n",
      "Using nnet shape: [5]\n",
      "NeuralNetworkClassifier_Pytorch created on cpu\n",
      "Iteration 1, cost = 1.3733, acc = 72.60\n",
      "Iteration 2, cost = 0.8631, acc = 80.29\n",
      "Iteration 3, cost = 0.6985, acc = 82.30\n",
      "Iteration 4, cost = 0.6165, acc = 83.22\n",
      "Iteration 5, cost = 0.5697, acc = 83.83\n",
      "Iteration 6, cost = 0.5395, acc = 84.20\n",
      "Iteration 7, cost = 0.5186, acc = 84.47\n",
      "Iteration 8, cost = 0.5031, acc = 84.89\n",
      "Iteration 9, cost = 0.4913, acc = 85.13\n",
      "Iteration 10, cost = 0.4821, acc = 85.26\n",
      "Using nnet shape: [5, 5]\n",
      "NeuralNetworkClassifier_Pytorch created on cpu\n",
      "Iteration 1, cost = 1.5515, acc = 63.96\n",
      "Iteration 2, cost = 0.9709, acc = 74.25\n",
      "Iteration 3, cost = 0.7474, acc = 79.29\n",
      "Iteration 4, cost = 0.6462, acc = 82.30\n",
      "Iteration 5, cost = 0.5836, acc = 85.26\n",
      "Iteration 6, cost = 0.5318, acc = 86.10\n",
      "Iteration 7, cost = 0.5020, acc = 86.48\n",
      "Iteration 8, cost = 0.4840, acc = 86.62\n",
      "Iteration 9, cost = 0.4712, acc = 86.93\n",
      "Iteration 10, cost = 0.4612, acc = 87.03\n",
      "Using nnet shape: [5, 5, 5]\n",
      "NeuralNetworkClassifier_Pytorch created on cpu\n",
      "Iteration 1, cost = 1.6847, acc = 62.27\n",
      "Iteration 2, cost = 1.0076, acc = 75.42\n",
      "Iteration 3, cost = 0.7722, acc = 78.15\n",
      "Iteration 4, cost = 0.6596, acc = 79.20\n",
      "Iteration 5, cost = 0.6031, acc = 80.53\n",
      "Iteration 6, cost = 0.5693, acc = 81.44\n",
      "Iteration 7, cost = 0.5466, acc = 82.20\n",
      "Iteration 8, cost = 0.5292, acc = 82.94\n",
      "Iteration 9, cost = 0.5141, acc = 83.70\n",
      "Iteration 10, cost = 0.5003, acc = 84.48\n",
      "Using nnet shape: [5, 5, 5, 5]\n",
      "NeuralNetworkClassifier_Pytorch created on cpu\n",
      "Iteration 1, cost = 1.7238, acc = 57.64\n",
      "Iteration 2, cost = 1.1429, acc = 69.00\n",
      "Iteration 3, cost = 0.9434, acc = 76.07\n",
      "Iteration 4, cost = 0.8034, acc = 80.28\n",
      "Iteration 5, cost = 0.7038, acc = 83.55\n",
      "Iteration 6, cost = 0.6295, acc = 85.12\n",
      "Iteration 7, cost = 0.5787, acc = 85.66\n",
      "Iteration 8, cost = 0.5479, acc = 85.87\n",
      "Iteration 9, cost = 0.5268, acc = 86.13\n",
      "Iteration 10, cost = 0.5102, acc = 86.35\n",
      "Using nnet shape: [5, 5, 5, 5, 5]\n",
      "NeuralNetworkClassifier_Pytorch created on cpu\n",
      "Iteration 1, cost = 1.9097, acc = 39.45\n",
      "Iteration 2, cost = 1.3915, acc = 60.01\n",
      "Iteration 3, cost = 1.1240, acc = 65.70\n",
      "Iteration 4, cost = 0.9759, acc = 71.33\n",
      "Iteration 5, cost = 0.8823, acc = 74.84\n",
      "Iteration 6, cost = 0.8110, acc = 76.23\n",
      "Iteration 7, cost = 0.7529, acc = 76.91\n",
      "Iteration 8, cost = 0.7110, acc = 77.61\n",
      "Iteration 9, cost = 0.6789, acc = 78.03\n",
      "Iteration 10, cost = 0.6554, acc = 78.64\n",
      "Using nnet shape: [10]\n",
      "NeuralNetworkClassifier_Pytorch created on cpu\n",
      "Iteration 1, cost = 1.0304, acc = 86.91\n",
      "Iteration 2, cost = 0.4859, acc = 89.54\n",
      "Iteration 3, cost = 0.3767, acc = 90.94\n",
      "Iteration 4, cost = 0.3257, acc = 91.43\n",
      "Iteration 5, cost = 0.2963, acc = 91.93\n",
      "Iteration 6, cost = 0.2769, acc = 92.16\n",
      "Iteration 7, cost = 0.2629, acc = 92.43\n",
      "Iteration 8, cost = 0.2523, acc = 92.57\n",
      "Iteration 9, cost = 0.2438, acc = 92.64\n",
      "Iteration 10, cost = 0.2369, acc = 92.70\n",
      "Using nnet shape: [10, 10]\n",
      "NeuralNetworkClassifier_Pytorch created on cpu\n",
      "Iteration 1, cost = 1.2341, acc = 84.98\n",
      "Iteration 2, cost = 0.5125, acc = 89.87\n",
      "Iteration 3, cost = 0.3725, acc = 91.02\n",
      "Iteration 4, cost = 0.3212, acc = 91.46\n",
      "Iteration 5, cost = 0.2929, acc = 91.73\n",
      "Iteration 6, cost = 0.2738, acc = 91.96\n",
      "Iteration 7, cost = 0.2597, acc = 92.29\n",
      "Iteration 8, cost = 0.2488, acc = 92.66\n",
      "Iteration 9, cost = 0.2401, acc = 92.82\n",
      "Iteration 10, cost = 0.2328, acc = 93.03\n",
      "Using nnet shape: [10, 10, 10]\n",
      "NeuralNetworkClassifier_Pytorch created on cpu\n",
      "Iteration 1, cost = 1.2130, acc = 86.55\n",
      "Iteration 2, cost = 0.4919, acc = 89.59\n",
      "Iteration 3, cost = 0.3793, acc = 90.79\n",
      "Iteration 4, cost = 0.3360, acc = 91.27\n",
      "Iteration 5, cost = 0.3101, acc = 91.50\n",
      "Iteration 6, cost = 0.2919, acc = 91.69\n",
      "Iteration 7, cost = 0.2777, acc = 91.82\n",
      "Iteration 8, cost = 0.2663, acc = 91.89\n",
      "Iteration 9, cost = 0.2567, acc = 92.05\n",
      "Iteration 10, cost = 0.2483, acc = 92.19\n",
      "Using nnet shape: [10, 10, 10, 10]\n",
      "NeuralNetworkClassifier_Pytorch created on cpu\n",
      "Iteration 1, cost = 1.2492, acc = 85.12\n",
      "Iteration 2, cost = 0.5402, acc = 89.59\n",
      "Iteration 3, cost = 0.3888, acc = 90.61\n",
      "Iteration 4, cost = 0.3395, acc = 90.85\n",
      "Iteration 5, cost = 0.3114, acc = 91.20\n",
      "Iteration 6, cost = 0.2923, acc = 91.57\n",
      "Iteration 7, cost = 0.2778, acc = 91.77\n",
      "Iteration 8, cost = 0.2655, acc = 91.86\n",
      "Iteration 9, cost = 0.2551, acc = 91.89\n",
      "Iteration 10, cost = 0.2463, acc = 92.05\n",
      "Using nnet shape: [10, 10, 10, 10, 10]\n",
      "NeuralNetworkClassifier_Pytorch created on cpu\n",
      "Iteration 1, cost = 1.4749, acc = 69.71\n",
      "Iteration 2, cost = 0.8443, acc = 80.87\n",
      "Iteration 3, cost = 0.6387, acc = 83.32\n",
      "Iteration 4, cost = 0.5428, acc = 83.61\n",
      "Iteration 5, cost = 0.4884, acc = 84.14\n",
      "Iteration 6, cost = 0.4552, acc = 84.65\n",
      "Iteration 7, cost = 0.4320, acc = 84.56\n",
      "Iteration 8, cost = 0.4144, acc = 85.17\n",
      "Iteration 9, cost = 0.3980, acc = 85.21\n",
      "Iteration 10, cost = 0.3864, acc = 85.95\n",
      "Using nnet shape: [20]\n",
      "NeuralNetworkClassifier_Pytorch created on cpu\n",
      "Iteration 1, cost = 0.7274, acc = 91.39\n",
      "Iteration 2, cost = 0.3200, acc = 92.70\n",
      "Iteration 3, cost = 0.2626, acc = 93.37\n",
      "Iteration 4, cost = 0.2317, acc = 93.85\n",
      "Iteration 5, cost = 0.2104, acc = 94.20\n",
      "Iteration 6, cost = 0.1943, acc = 94.51\n",
      "Iteration 7, cost = 0.1816, acc = 94.73\n",
      "Iteration 8, cost = 0.1713, acc = 94.83\n",
      "Iteration 9, cost = 0.1626, acc = 94.99\n",
      "Iteration 10, cost = 0.1551, acc = 94.98\n",
      "Using nnet shape: [20, 20]\n",
      "NeuralNetworkClassifier_Pytorch created on cpu\n",
      "Iteration 1, cost = 0.7854, acc = 91.21\n",
      "Iteration 2, cost = 0.2997, acc = 92.84\n",
      "Iteration 3, cost = 0.2349, acc = 93.96\n",
      "Iteration 4, cost = 0.1997, acc = 94.45\n",
      "Iteration 5, cost = 0.1765, acc = 94.82\n",
      "Iteration 6, cost = 0.1593, acc = 95.14\n",
      "Iteration 7, cost = 0.1457, acc = 95.24\n",
      "Iteration 8, cost = 0.1346, acc = 95.50\n",
      "Iteration 9, cost = 0.1255, acc = 95.51\n",
      "Iteration 10, cost = 0.1179, acc = 95.56\n",
      "Using nnet shape: [20, 20, 20]\n",
      "NeuralNetworkClassifier_Pytorch created on cpu\n",
      "Iteration 1, cost = 0.8216, acc = 90.58\n"
     ]
    },
    {
     "name": "stdout",
     "output_type": "stream",
     "text": [
      "Iteration 2, cost = 0.3104, acc = 92.79\n",
      "Iteration 3, cost = 0.2377, acc = 94.01\n",
      "Iteration 4, cost = 0.2027, acc = 94.42\n",
      "Iteration 5, cost = 0.1796, acc = 94.71\n",
      "Iteration 6, cost = 0.1628, acc = 94.83\n",
      "Iteration 7, cost = 0.1495, acc = 95.01\n",
      "Iteration 8, cost = 0.1386, acc = 95.11\n",
      "Iteration 9, cost = 0.1294, acc = 95.19\n",
      "Iteration 10, cost = 0.1214, acc = 95.32\n",
      "Using nnet shape: [20, 20, 20, 20]\n",
      "NeuralNetworkClassifier_Pytorch created on cpu\n",
      "Iteration 1, cost = 0.8409, acc = 91.00\n",
      "Iteration 2, cost = 0.2959, acc = 93.18\n",
      "Iteration 3, cost = 0.2248, acc = 94.18\n",
      "Iteration 4, cost = 0.1890, acc = 94.54\n",
      "Iteration 5, cost = 0.1663, acc = 94.60\n",
      "Iteration 6, cost = 0.1506, acc = 94.72\n",
      "Iteration 7, cost = 0.1387, acc = 94.78\n",
      "Iteration 8, cost = 0.1292, acc = 94.82\n",
      "Iteration 9, cost = 0.1209, acc = 94.84\n",
      "Iteration 10, cost = 0.1136, acc = 94.93\n",
      "Using nnet shape: [20, 20, 20, 20, 20]\n",
      "NeuralNetworkClassifier_Pytorch created on cpu\n",
      "Iteration 1, cost = 0.9793, acc = 89.82\n",
      "Iteration 2, cost = 0.3575, acc = 91.85\n",
      "Iteration 3, cost = 0.2716, acc = 92.87\n",
      "Iteration 4, cost = 0.2290, acc = 93.66\n",
      "Iteration 5, cost = 0.2010, acc = 93.99\n",
      "Iteration 6, cost = 0.1813, acc = 94.31\n",
      "Iteration 7, cost = 0.1669, acc = 94.46\n",
      "Iteration 8, cost = 0.1557, acc = 94.57\n",
      "Iteration 9, cost = 0.1462, acc = 94.61\n",
      "Iteration 10, cost = 0.1378, acc = 94.48\n",
      "Using nnet shape: [50]\n",
      "NeuralNetworkClassifier_Pytorch created on cpu\n",
      "Iteration 1, cost = 0.5335, acc = 92.32\n",
      "Iteration 2, cost = 0.2554, acc = 93.72\n",
      "Iteration 3, cost = 0.2039, acc = 94.70\n",
      "Iteration 4, cost = 0.1711, acc = 95.10\n",
      "Iteration 5, cost = 0.1471, acc = 95.49\n",
      "Iteration 6, cost = 0.1288, acc = 95.83\n",
      "Iteration 7, cost = 0.1143, acc = 96.09\n",
      "Iteration 8, cost = 0.1023, acc = 96.30\n",
      "Iteration 9, cost = 0.0922, acc = 96.38\n",
      "Iteration 10, cost = 0.0835, acc = 96.43\n",
      "Using nnet shape: [50, 50]\n",
      "NeuralNetworkClassifier_Pytorch created on cpu\n",
      "Iteration 1, cost = 0.5134, acc = 92.98\n",
      "Iteration 2, cost = 0.2124, acc = 94.61\n",
      "Iteration 3, cost = 0.1558, acc = 95.57\n",
      "Iteration 4, cost = 0.1217, acc = 95.95\n",
      "Iteration 5, cost = 0.0989, acc = 96.25\n",
      "Iteration 6, cost = 0.0824, acc = 96.45\n",
      "Iteration 7, cost = 0.0695, acc = 96.54\n",
      "Iteration 8, cost = 0.0591, acc = 96.71\n",
      "Iteration 9, cost = 0.0505, acc = 96.84\n",
      "Iteration 10, cost = 0.0429, acc = 96.84\n",
      "Using nnet shape: [50, 50, 50]\n",
      "NeuralNetworkClassifier_Pytorch created on cpu\n",
      "Iteration 1, cost = 0.5379, acc = 93.11\n",
      "Iteration 2, cost = 0.2070, acc = 95.17\n",
      "Iteration 3, cost = 0.1500, acc = 95.73\n",
      "Iteration 4, cost = 0.1168, acc = 96.10\n",
      "Iteration 5, cost = 0.0947, acc = 96.37\n",
      "Iteration 6, cost = 0.0788, acc = 96.30\n",
      "Iteration 7, cost = 0.0666, acc = 96.15\n",
      "Iteration 8, cost = 0.0567, acc = 96.06\n",
      "Iteration 9, cost = 0.0480, acc = 95.98\n",
      "Iteration 10, cost = 0.0407, acc = 96.14\n",
      "Using nnet shape: [50, 50, 50, 50]\n",
      "NeuralNetworkClassifier_Pytorch created on cpu\n",
      "Iteration 1, cost = 0.5690, acc = 92.29\n",
      "Iteration 2, cost = 0.2146, acc = 94.97\n",
      "Iteration 3, cost = 0.1533, acc = 95.87\n",
      "Iteration 4, cost = 0.1226, acc = 96.15\n",
      "Iteration 5, cost = 0.1018, acc = 96.23\n",
      "Iteration 6, cost = 0.0862, acc = 96.26\n",
      "Iteration 7, cost = 0.0738, acc = 96.20\n",
      "Iteration 8, cost = 0.0629, acc = 96.53\n",
      "Iteration 9, cost = 0.0551, acc = 96.39\n",
      "Iteration 10, cost = 0.0502, acc = 96.39\n",
      "Using nnet shape: [50, 50, 50, 50, 50]\n",
      "NeuralNetworkClassifier_Pytorch created on cpu\n",
      "Iteration 1, cost = 0.6391, acc = 91.83\n",
      "Iteration 2, cost = 0.2459, acc = 94.37\n",
      "Iteration 3, cost = 0.1722, acc = 95.63\n",
      "Iteration 4, cost = 0.1352, acc = 96.09\n",
      "Iteration 5, cost = 0.1120, acc = 96.30\n",
      "Iteration 6, cost = 0.0961, acc = 96.38\n",
      "Iteration 7, cost = 0.0856, acc = 96.16\n",
      "Iteration 8, cost = 0.0753, acc = 95.96\n",
      "Iteration 9, cost = 0.0657, acc = 96.28\n",
      "Iteration 10, cost = 0.0612, acc = 96.35\n"
     ]
    }
   ],
   "source": [
    "def run2(n_hiddens_by_layer):\n",
    "    nnet = NeuralNetworkClassifier_Pytorch(\n",
    "        n_inputs=1*28*28,\n",
    "        n_hiddens_by_layer=n_hiddens_by_layer,\n",
    "        n_outputs=10,\n",
    "        #relu=,\n",
    "        #gpu=,\n",
    "        #n_conv_layers=,\n",
    "        #windows=,\n",
    "        #strides=,\n",
    "        #input_height_width=,\n",
    "    )\n",
    "    nnet.train(\n",
    "        Xtrain=Xtrain,\n",
    "        Ttrain=Ttrain,\n",
    "        Xtest=Xtest,\n",
    "        Ttest=Ttest,\n",
    "        n_iterations=best_n_iterations,\n",
    "        batch_size=100,\n",
    "        learning_rate=0.001,\n",
    "    )\n",
    "    return nnet\n",
    "\n",
    "\n",
    "n_hiddens_by_layer_test_values = [[nu] * nl for nu in [1, 5, 10, 20, 50] for nl in [1, 2, 3, 4, 5]]\n",
    "shape_test_accuracy = []\n",
    "\n",
    "for n_hiddens_by_layer in n_hiddens_by_layer_test_values:\n",
    "    print('Using nnet shape:', n_hiddens_by_layer)\n",
    "    nnet = run2(n_hiddens_by_layer)\n",
    "    Ytest, _, _ = nnet.use(Xtest)\n",
    "    num_correct = np.sum(Ytest == Ttest)\n",
    "    shape_test_accuracy.append(num_correct / Ytest.shape[0])"
   ]
  },
  {
   "cell_type": "code",
   "execution_count": 9,
   "metadata": {},
   "outputs": [
    {
     "data": {
      "image/png": "[encoded data removed]",
      "text/plain": [
       "<Figure size 720x720 with 1 Axes>"
      ]
     },
     "metadata": {
      "needs_background": "light"
     },
     "output_type": "display_data"
    }
   ],
   "source": [
    "plt.figure(figsize=(10, 10))\n",
    "plt.plot(shape_test_accuracy, 'o-')\n",
    "plt.title(\"Test RMSE vs Hidden Layers Structure\")\n",
    "plt.ylabel('Test RMSE')\n",
    "plt.xticks(range(len(shape_test_accuracy)), n_hiddens_by_layer_test_values, rotation=30, horizontalalignment='right')\n",
    "plt.xlabel('Hidden Layers Structure')\n",
    "plt.grid(True)"
   ]
  },
  {
   "cell_type": "code",
   "execution_count": 10,
   "metadata": {},
   "outputs": [
    {
     "name": "stdout",
     "output_type": "stream",
     "text": [
      "best shape: [50, 50] with 0.9684 success\n"
     ]
    }
   ],
   "source": [
    "best_index = np.argmax(shape_test_accuracy)\n",
    "best_shape = shape_test_accuracy[best_index]\n",
    "print('best shape:', n_hiddens_by_layer_test_values[best_index], \"with\", best_shape, \"success\")\n"
   ]
  },
  {
   "cell_type": "markdown",
   "metadata": {},
   "source": [
    "The single unit layers perform really poorly since they can't capture the complexity of the number's image. After that, the performance increases with each layer. It doesn't seem to care how many layers there are however. For 5 and 10 units, there are dips in performance. I guess too many layers leads to overfitting or maybe the vanishing gradient problem."
   ]
  },
  {
   "cell_type": "markdown",
   "metadata": {},
   "source": [
    "## Required Section 2: Convolutional Networks (40 points)"
   ]
  },
  {
   "cell_type": "markdown",
   "metadata": {},
   "source": [
    "1. (15 points) Using `batch_size` of 100, `learning_rate` of 0.001, `n_hiddens_by_layer` of `[20, 20, 20]`, `n_iterations` of 10, `n_conv_layers` of 2, and try several values of `windows` and of `strides`, and plot the percent of testing data correctly classified versus `windows` and `strides`.\n",
    "\n",
    "2. (15 points) Try several more variations of `n_hiddens_by_layer`, `n_iterations`, `n_conv_layers`, `windows` and `strides`. \n",
    "\n",
    "3. (10 points) Describe what you see in your plots in 1., and the variations you see in 2. with at least two sentences for each."
   ]
  },
  {
   "cell_type": "markdown",
   "metadata": {},
   "source": [
    "### Part 1"
   ]
  },
  {
   "cell_type": "code",
   "execution_count": 12,
   "metadata": {},
   "outputs": [
    {
     "name": "stdout",
     "output_type": "stream",
     "text": [
      "(windows, strides): ([5, 7], [1, 2])\n",
      "NeuralNetworkClassifier_Pytorch created on cpu\n",
      "Iteration 1, cost = 0.4956, acc = 95.71\n",
      "Iteration 2, cost = 0.1360, acc = 97.23\n",
      "Iteration 3, cost = 0.0875, acc = 98.02\n",
      "Iteration 4, cost = 0.0654, acc = 98.10\n",
      "Iteration 5, cost = 0.0514, acc = 98.10\n",
      "Iteration 6, cost = 0.0415, acc = 97.97\n",
      "Iteration 7, cost = 0.0367, acc = 98.14\n",
      "Iteration 8, cost = 0.0337, acc = 98.09\n",
      "Iteration 9, cost = 0.0311, acc = 98.16\n",
      "Iteration 10, cost = 0.0263, acc = 98.27\n",
      "(windows, strides): ([5, 7], [2, 2])\n",
      "NeuralNetworkClassifier_Pytorch created on cpu\n",
      "Iteration 1, cost = 0.6196, acc = 93.49\n",
      "Iteration 2, cost = 0.1998, acc = 95.86\n",
      "Iteration 3, cost = 0.1312, acc = 96.65\n",
      "Iteration 4, cost = 0.0992, acc = 97.21\n",
      "Iteration 5, cost = 0.0800, acc = 97.49\n",
      "Iteration 6, cost = 0.0673, acc = 97.69\n",
      "Iteration 7, cost = 0.0578, acc = 97.82\n",
      "Iteration 8, cost = 0.0499, acc = 97.73\n",
      "Iteration 9, cost = 0.0433, acc = 97.84\n",
      "Iteration 10, cost = 0.0376, acc = 97.91\n",
      "(windows, strides): ([5, 7], [1, 3])\n",
      "NeuralNetworkClassifier_Pytorch created on cpu\n",
      "Iteration 1, cost = 0.5052, acc = 95.88\n",
      "Iteration 2, cost = 0.1381, acc = 96.94\n",
      "Iteration 3, cost = 0.0902, acc = 97.60\n",
      "Iteration 4, cost = 0.0673, acc = 97.97\n",
      "Iteration 5, cost = 0.0532, acc = 98.13\n",
      "Iteration 6, cost = 0.0431, acc = 98.12\n",
      "Iteration 7, cost = 0.0353, acc = 98.21\n",
      "Iteration 8, cost = 0.0296, acc = 98.13\n",
      "Iteration 9, cost = 0.0261, acc = 98.14\n",
      "Iteration 10, cost = 0.0231, acc = 98.29\n",
      "(windows, strides): ([3, 4], [1, 2])\n",
      "NeuralNetworkClassifier_Pytorch created on cpu\n",
      "Iteration 1, cost = 0.5469, acc = 94.81\n",
      "Iteration 2, cost = 0.1717, acc = 96.87\n",
      "Iteration 3, cost = 0.1111, acc = 97.47\n",
      "Iteration 4, cost = 0.0846, acc = 97.81\n",
      "Iteration 5, cost = 0.0676, acc = 97.86\n",
      "Iteration 6, cost = 0.0572, acc = 97.84\n",
      "Iteration 7, cost = 0.0462, acc = 97.89\n",
      "Iteration 8, cost = 0.0421, acc = 97.94\n",
      "Iteration 9, cost = 0.0391, acc = 97.99\n",
      "Iteration 10, cost = 0.0325, acc = 97.82\n",
      "(windows, strides): ([3, 4], [2, 2])\n",
      "NeuralNetworkClassifier_Pytorch created on cpu\n",
      "Iteration 1, cost = 0.6288, acc = 93.33\n",
      "Iteration 2, cost = 0.1999, acc = 96.16\n",
      "Iteration 3, cost = 0.1283, acc = 97.17\n",
      "Iteration 4, cost = 0.0978, acc = 97.51\n",
      "Iteration 5, cost = 0.0797, acc = 97.75\n",
      "Iteration 6, cost = 0.0673, acc = 97.78\n",
      "Iteration 7, cost = 0.0581, acc = 97.88\n",
      "Iteration 8, cost = 0.0509, acc = 98.08\n",
      "Iteration 9, cost = 0.0450, acc = 98.09\n",
      "Iteration 10, cost = 0.0400, acc = 98.08\n",
      "(windows, strides): ([3, 4], [1, 3])\n",
      "NeuralNetworkClassifier_Pytorch created on cpu\n",
      "Iteration 1, cost = 0.5642, acc = 93.81\n",
      "Iteration 2, cost = 0.1876, acc = 96.60\n",
      "Iteration 3, cost = 0.1182, acc = 97.47\n",
      "Iteration 4, cost = 0.0867, acc = 97.63\n",
      "Iteration 5, cost = 0.0682, acc = 97.77\n",
      "Iteration 6, cost = 0.0555, acc = 97.88\n",
      "Iteration 7, cost = 0.0456, acc = 97.95\n",
      "Iteration 8, cost = 0.0388, acc = 97.97\n",
      "Iteration 9, cost = 0.0329, acc = 97.94\n",
      "Iteration 10, cost = 0.0281, acc = 97.99\n",
      "(windows, strides): ([15, 10], [1, 2])\n",
      "NeuralNetworkClassifier_Pytorch created on cpu\n",
      "Iteration 1, cost = 0.5849, acc = 93.71\n",
      "Iteration 2, cost = 0.2101, acc = 95.54\n",
      "Iteration 3, cost = 0.1499, acc = 95.75\n",
      "Iteration 4, cost = 0.1231, acc = 96.54\n",
      "Iteration 5, cost = 0.1053, acc = 96.85\n",
      "Iteration 6, cost = 0.0913, acc = 96.98\n",
      "Iteration 7, cost = 0.0818, acc = 97.22\n",
      "Iteration 8, cost = 0.0737, acc = 97.14\n",
      "Iteration 9, cost = 0.0650, acc = 97.20\n",
      "Iteration 10, cost = 0.0642, acc = 97.24\n",
      "(windows, strides): ([15, 10], [2, 2])\n",
      "NeuralNetworkClassifier_Pytorch created on cpu\n"
     ]
    },
    {
     "ename": "RuntimeError",
     "evalue": "Calculated padded input size per channel: (7 x 7). Kernel size: (10 x 10). Kernel size can't be greater than actual input size at /Users/soumith/b101_2/2019_02_08/wheel_build_dirs/wheel_3.6/pytorch/aten/src/THNN/generic/SpatialConvolutionMM.c:50",
     "output_type": "error",
     "traceback": [
      "\u001b[0;31m---------------------------------------------------------------------------\u001b[0m",
      "\u001b[0;31mRuntimeError\u001b[0m                              Traceback (most recent call last)",
      "\u001b[0;32m<ipython-input-12-1a52cecf785c>\u001b[0m in \u001b[0;36m<module>\u001b[0;34m\u001b[0m\n\u001b[1;32m     29\u001b[0m     \u001b[0;32mfor\u001b[0m \u001b[0mstrides\u001b[0m \u001b[0;32min\u001b[0m \u001b[0mstrides_values\u001b[0m\u001b[0;34m:\u001b[0m\u001b[0;34m\u001b[0m\u001b[0m\n\u001b[1;32m     30\u001b[0m         \u001b[0mprint\u001b[0m\u001b[0;34m(\u001b[0m\u001b[0;34m'(windows, strides):'\u001b[0m\u001b[0;34m,\u001b[0m \u001b[0;34m(\u001b[0m\u001b[0mwindows\u001b[0m\u001b[0;34m,\u001b[0m \u001b[0mstrides\u001b[0m\u001b[0;34m)\u001b[0m\u001b[0;34m)\u001b[0m\u001b[0;34m\u001b[0m\u001b[0m\n\u001b[0;32m---> 31\u001b[0;31m         \u001b[0mnnet\u001b[0m \u001b[0;34m=\u001b[0m \u001b[0mrun21\u001b[0m\u001b[0;34m(\u001b[0m\u001b[0mwindows\u001b[0m\u001b[0;34m,\u001b[0m \u001b[0mstrides\u001b[0m\u001b[0;34m)\u001b[0m\u001b[0;34m\u001b[0m\u001b[0m\n\u001b[0m\u001b[1;32m     32\u001b[0m         \u001b[0mYtest\u001b[0m\u001b[0;34m,\u001b[0m \u001b[0m_\u001b[0m\u001b[0;34m,\u001b[0m \u001b[0m_\u001b[0m \u001b[0;34m=\u001b[0m \u001b[0mnnet\u001b[0m\u001b[0;34m.\u001b[0m\u001b[0muse\u001b[0m\u001b[0;34m(\u001b[0m\u001b[0mXtest\u001b[0m\u001b[0;34m)\u001b[0m\u001b[0;34m\u001b[0m\u001b[0m\n\u001b[1;32m     33\u001b[0m         \u001b[0;31m#Ytest = Ttest # DEBUG\u001b[0m\u001b[0;34m\u001b[0m\u001b[0;34m\u001b[0m\u001b[0m\n",
      "\u001b[0;32m<ipython-input-12-1a52cecf785c>\u001b[0m in \u001b[0;36mrun21\u001b[0;34m(windows, strides)\u001b[0m\n\u001b[1;32m     18\u001b[0m         \u001b[0mn_iterations\u001b[0m\u001b[0;34m=\u001b[0m\u001b[0;36m10\u001b[0m\u001b[0;34m,\u001b[0m\u001b[0;34m\u001b[0m\u001b[0m\n\u001b[1;32m     19\u001b[0m         \u001b[0mbatch_size\u001b[0m\u001b[0;34m=\u001b[0m\u001b[0;36m100\u001b[0m\u001b[0;34m,\u001b[0m\u001b[0;34m\u001b[0m\u001b[0m\n\u001b[0;32m---> 20\u001b[0;31m         \u001b[0mlearning_rate\u001b[0m\u001b[0;34m=\u001b[0m\u001b[0;36m0.001\u001b[0m\u001b[0;34m,\u001b[0m\u001b[0;34m\u001b[0m\u001b[0m\n\u001b[0m\u001b[1;32m     21\u001b[0m     )\n\u001b[1;32m     22\u001b[0m     \u001b[0;32mreturn\u001b[0m \u001b[0mnnet\u001b[0m\u001b[0;34m\u001b[0m\u001b[0m\n",
      "\u001b[0;32m~/f/doc/school/files/y4/s2/lc445/a4/neuralnetworks_pytorch.py\u001b[0m in \u001b[0;36mtrain\u001b[0;34m(self, Xtrain, Ttrain, Xtest, Ttest, n_iterations, batch_size, learning_rate)\u001b[0m\n\u001b[1;32m     95\u001b[0m                 \u001b[0mTtrain_batch\u001b[0m \u001b[0;34m=\u001b[0m \u001b[0mVariable\u001b[0m\u001b[0;34m(\u001b[0m\u001b[0mTtrain\u001b[0m\u001b[0;34m[\u001b[0m\u001b[0mstart\u001b[0m\u001b[0;34m:\u001b[0m\u001b[0mend\u001b[0m\u001b[0;34m,\u001b[0m \u001b[0;34m...\u001b[0m\u001b[0;34m]\u001b[0m\u001b[0;34m,\u001b[0m \u001b[0mrequires_grad\u001b[0m\u001b[0;34m=\u001b[0m\u001b[0;32mFalse\u001b[0m\u001b[0;34m)\u001b[0m\u001b[0;34m\u001b[0m\u001b[0m\n\u001b[1;32m     96\u001b[0m                 \u001b[0moptimizer\u001b[0m\u001b[0;34m.\u001b[0m\u001b[0mzero_grad\u001b[0m\u001b[0;34m(\u001b[0m\u001b[0;34m)\u001b[0m\u001b[0;34m\u001b[0m\u001b[0m\n\u001b[0;32m---> 97\u001b[0;31m                 \u001b[0mY\u001b[0m \u001b[0;34m=\u001b[0m \u001b[0mself\u001b[0m\u001b[0;34m.\u001b[0m\u001b[0mforward\u001b[0m\u001b[0;34m(\u001b[0m\u001b[0mXtrain_batch\u001b[0m\u001b[0;34m)\u001b[0m\u001b[0;34m\u001b[0m\u001b[0m\n\u001b[0m\u001b[1;32m     98\u001b[0m                 \u001b[0moutput\u001b[0m \u001b[0;34m=\u001b[0m \u001b[0mloss\u001b[0m\u001b[0;34m.\u001b[0m\u001b[0mforward\u001b[0m\u001b[0;34m(\u001b[0m\u001b[0mY\u001b[0m\u001b[0;34m,\u001b[0m \u001b[0mTtrain_batch\u001b[0m\u001b[0;34m)\u001b[0m\u001b[0;34m\u001b[0m\u001b[0m\n\u001b[1;32m     99\u001b[0m                 \u001b[0moutput\u001b[0m\u001b[0;34m.\u001b[0m\u001b[0mbackward\u001b[0m\u001b[0;34m(\u001b[0m\u001b[0;34m)\u001b[0m\u001b[0;34m\u001b[0m\u001b[0m\n",
      "\u001b[0;32m~/f/doc/school/files/y4/s2/lc445/a4/neuralnetworks_pytorch.py\u001b[0m in \u001b[0;36mforward\u001b[0;34m(self, X)\u001b[0m\n\u001b[1;32m     68\u001b[0m \u001b[0;34m\u001b[0m\u001b[0m\n\u001b[1;32m     69\u001b[0m     \u001b[0;32mdef\u001b[0m \u001b[0mforward\u001b[0m\u001b[0;34m(\u001b[0m\u001b[0mself\u001b[0m\u001b[0;34m,\u001b[0m \u001b[0mX\u001b[0m\u001b[0;34m)\u001b[0m\u001b[0;34m:\u001b[0m\u001b[0;34m\u001b[0m\u001b[0m\n\u001b[0;32m---> 70\u001b[0;31m         \u001b[0mYs\u001b[0m \u001b[0;34m=\u001b[0m \u001b[0mself\u001b[0m\u001b[0;34m.\u001b[0m\u001b[0mforward_all_outputs\u001b[0m\u001b[0;34m(\u001b[0m\u001b[0mX\u001b[0m\u001b[0;34m)\u001b[0m\u001b[0;34m\u001b[0m\u001b[0m\n\u001b[0m\u001b[1;32m     71\u001b[0m         \u001b[0;32mreturn\u001b[0m \u001b[0mYs\u001b[0m\u001b[0;34m[\u001b[0m\u001b[0;34m-\u001b[0m\u001b[0;36m1\u001b[0m\u001b[0;34m]\u001b[0m\u001b[0;34m\u001b[0m\u001b[0m\n\u001b[1;32m     72\u001b[0m \u001b[0;34m\u001b[0m\u001b[0m\n",
      "\u001b[0;32m~/f/doc/school/files/y4/s2/lc445/a4/neuralnetworks_pytorch.py\u001b[0m in \u001b[0;36mforward_all_outputs\u001b[0;34m(self, X)\u001b[0m\n\u001b[1;32m     55\u001b[0m         \u001b[0;32mfor\u001b[0m \u001b[0mi\u001b[0m \u001b[0;32min\u001b[0m \u001b[0mrange\u001b[0m\u001b[0;34m(\u001b[0m\u001b[0mlen\u001b[0m\u001b[0;34m(\u001b[0m\u001b[0mself\u001b[0m\u001b[0;34m.\u001b[0m\u001b[0mconv_layers\u001b[0m\u001b[0;34m)\u001b[0m\u001b[0;34m)\u001b[0m\u001b[0;34m:\u001b[0m\u001b[0;34m\u001b[0m\u001b[0m\n\u001b[1;32m     56\u001b[0m             \u001b[0;31m# print('i', i, 'Input', Ys[-1].shape)\u001b[0m\u001b[0;34m\u001b[0m\u001b[0;34m\u001b[0m\u001b[0m\n\u001b[0;32m---> 57\u001b[0;31m             \u001b[0mYs\u001b[0m\u001b[0;34m.\u001b[0m\u001b[0mappend\u001b[0m\u001b[0;34m(\u001b[0m\u001b[0mself\u001b[0m\u001b[0;34m.\u001b[0m\u001b[0mactivation\u001b[0m\u001b[0;34m(\u001b[0m\u001b[0mself\u001b[0m\u001b[0;34m.\u001b[0m\u001b[0mconv_layers\u001b[0m\u001b[0;34m[\u001b[0m\u001b[0mi\u001b[0m\u001b[0;34m]\u001b[0m\u001b[0;34m(\u001b[0m\u001b[0mYs\u001b[0m\u001b[0;34m[\u001b[0m\u001b[0;34m-\u001b[0m\u001b[0;36m1\u001b[0m\u001b[0;34m]\u001b[0m\u001b[0;34m)\u001b[0m\u001b[0;34m)\u001b[0m\u001b[0;34m)\u001b[0m\u001b[0;34m\u001b[0m\u001b[0m\n\u001b[0m\u001b[1;32m     58\u001b[0m \u001b[0;34m\u001b[0m\u001b[0m\n\u001b[1;32m     59\u001b[0m         \u001b[0;32mfor\u001b[0m \u001b[0mi\u001b[0m \u001b[0;32min\u001b[0m \u001b[0mrange\u001b[0m\u001b[0;34m(\u001b[0m\u001b[0mlen\u001b[0m\u001b[0;34m(\u001b[0m\u001b[0mself\u001b[0m\u001b[0;34m.\u001b[0m\u001b[0mfc_layers\u001b[0m\u001b[0;34m)\u001b[0m\u001b[0;34m-\u001b[0m\u001b[0;36m1\u001b[0m\u001b[0;34m)\u001b[0m\u001b[0;34m:\u001b[0m\u001b[0;34m\u001b[0m\u001b[0m\n",
      "\u001b[0;32m/usr/local/lib/python3.6/site-packages/torch/nn/modules/module.py\u001b[0m in \u001b[0;36m__call__\u001b[0;34m(self, *input, **kwargs)\u001b[0m\n\u001b[1;32m    487\u001b[0m             \u001b[0mresult\u001b[0m \u001b[0;34m=\u001b[0m \u001b[0mself\u001b[0m\u001b[0;34m.\u001b[0m\u001b[0m_slow_forward\u001b[0m\u001b[0;34m(\u001b[0m\u001b[0;34m*\u001b[0m\u001b[0minput\u001b[0m\u001b[0;34m,\u001b[0m \u001b[0;34m**\u001b[0m\u001b[0mkwargs\u001b[0m\u001b[0;34m)\u001b[0m\u001b[0;34m\u001b[0m\u001b[0m\n\u001b[1;32m    488\u001b[0m         \u001b[0;32melse\u001b[0m\u001b[0;34m:\u001b[0m\u001b[0;34m\u001b[0m\u001b[0m\n\u001b[0;32m--> 489\u001b[0;31m             \u001b[0mresult\u001b[0m \u001b[0;34m=\u001b[0m \u001b[0mself\u001b[0m\u001b[0;34m.\u001b[0m\u001b[0mforward\u001b[0m\u001b[0;34m(\u001b[0m\u001b[0;34m*\u001b[0m\u001b[0minput\u001b[0m\u001b[0;34m,\u001b[0m \u001b[0;34m**\u001b[0m\u001b[0mkwargs\u001b[0m\u001b[0;34m)\u001b[0m\u001b[0;34m\u001b[0m\u001b[0m\n\u001b[0m\u001b[1;32m    490\u001b[0m         \u001b[0;32mfor\u001b[0m \u001b[0mhook\u001b[0m \u001b[0;32min\u001b[0m \u001b[0mself\u001b[0m\u001b[0;34m.\u001b[0m\u001b[0m_forward_hooks\u001b[0m\u001b[0;34m.\u001b[0m\u001b[0mvalues\u001b[0m\u001b[0;34m(\u001b[0m\u001b[0;34m)\u001b[0m\u001b[0;34m:\u001b[0m\u001b[0;34m\u001b[0m\u001b[0m\n\u001b[1;32m    491\u001b[0m             \u001b[0mhook_result\u001b[0m \u001b[0;34m=\u001b[0m \u001b[0mhook\u001b[0m\u001b[0;34m(\u001b[0m\u001b[0mself\u001b[0m\u001b[0;34m,\u001b[0m \u001b[0minput\u001b[0m\u001b[0;34m,\u001b[0m \u001b[0mresult\u001b[0m\u001b[0;34m)\u001b[0m\u001b[0;34m\u001b[0m\u001b[0m\n",
      "\u001b[0;32m/usr/local/lib/python3.6/site-packages/torch/nn/modules/conv.py\u001b[0m in \u001b[0;36mforward\u001b[0;34m(self, input)\u001b[0m\n\u001b[1;32m    318\u001b[0m     \u001b[0;32mdef\u001b[0m \u001b[0mforward\u001b[0m\u001b[0;34m(\u001b[0m\u001b[0mself\u001b[0m\u001b[0;34m,\u001b[0m \u001b[0minput\u001b[0m\u001b[0;34m)\u001b[0m\u001b[0;34m:\u001b[0m\u001b[0;34m\u001b[0m\u001b[0m\n\u001b[1;32m    319\u001b[0m         return F.conv2d(input, self.weight, self.bias, self.stride,\n\u001b[0;32m--> 320\u001b[0;31m                         self.padding, self.dilation, self.groups)\n\u001b[0m\u001b[1;32m    321\u001b[0m \u001b[0;34m\u001b[0m\u001b[0m\n\u001b[1;32m    322\u001b[0m \u001b[0;34m\u001b[0m\u001b[0m\n",
      "\u001b[0;31mRuntimeError\u001b[0m: Calculated padded input size per channel: (7 x 7). Kernel size: (10 x 10). Kernel size can't be greater than actual input size at /Users/soumith/b101_2/2019_02_08/wheel_build_dirs/wheel_3.6/pytorch/aten/src/THNN/generic/SpatialConvolutionMM.c:50"
     ]
    }
   ],
   "source": [
    "def run21(windows, strides):\n",
    "    nnet = NeuralNetworkClassifier_Pytorch(\n",
    "        n_inputs=1,\n",
    "        n_hiddens_by_layer=[20, 20, 20],\n",
    "        n_outputs=10,\n",
    "        #relu=,\n",
    "        #gpu=,\n",
    "        n_conv_layers=2,\n",
    "        windows=windows,\n",
    "        strides=strides,\n",
    "        input_height_width=28,\n",
    "    )\n",
    "    nnet.train(\n",
    "        Xtrain=Xtrain,\n",
    "        Ttrain=Ttrain,\n",
    "        Xtest=Xtest,\n",
    "        Ttest=Ttest,\n",
    "        n_iterations=10,\n",
    "        batch_size=100,\n",
    "        learning_rate=0.001,\n",
    "    )\n",
    "    return nnet\n",
    "\n",
    "windows_values = [[5, 7], [3, 4], [15, 10]]\n",
    "strides_values = [[1, 2], [2, 2], [1, 3]]\n",
    "wind_strid_config = []\n",
    "wind_strid_accuracy = []\n",
    "for windows in windows_values:\n",
    "    for strides in strides_values:\n",
    "        print('(windows, strides):', (windows, strides))\n",
    "        nnet = run21(windows, strides)\n",
    "        Ytest, _, _ = nnet.use(Xtest)\n",
    "        #Ytest = Ttest # DEBUG\n",
    "        num_correct = np.sum(Ytest == Ttest)\n",
    "        wind_strid_config.append((windows, strides))\n",
    "        wind_strid_accuracy.append(num_correct / Ytest.shape[0])"
   ]
  },
  {
   "cell_type": "markdown",
   "metadata": {},
   "source": [
    "The program errored out after this ran, but I collected enough data that I'm fine with what it collected. Convolusional neural networks took really long to run, so I decided not to run it again."
   ]
  },
  {
   "cell_type": "code",
   "execution_count": 25,
   "metadata": {},
   "outputs": [
    {
     "data": {
      "image/png": "[encoded data removed]",
      "text/plain": [
       "<Figure size 432x288 with 1 Axes>"
      ]
     },
     "metadata": {
      "needs_background": "light"
     },
     "output_type": "display_data"
    }
   ],
   "source": [
    "plt.title('Section 2, Part 1, Test Percentage Correct vs Windows and Strides')\n",
    "plt.xlabel('(Windows, Strides)')\n",
    "plt.ylabel('Test Percentage Correct')\n",
    "plt.xticks(range(len(wind_strid_config)), wind_strid_config, rotation=30, horizontalalignment='right')\n",
    "plt.plot(wind_strid_accuracy, 'o');"
   ]
  },
  {
   "cell_type": "code",
   "execution_count": 39,
   "metadata": {},
   "outputs": [
    {
     "name": "stdout",
     "output_type": "stream",
     "text": [
      "best windows: [5, 7]\n",
      "best strides: [1, 3]\n",
      "accuracy: 0.9829\n"
     ]
    }
   ],
   "source": [
    "bi = np.argmax(wind_strid_accuracy)\n",
    "best_windows, best_strides = wind_strid_config[bi]\n",
    "print('best windows:', best_windows)\n",
    "print('best strides:', best_strides)\n",
    "print('accuracy:',wind_strid_accuracy[bi] )"
   ]
  },
  {
   "cell_type": "markdown",
   "metadata": {},
   "source": [
    "The performance in general larger than the \n",
    "traditional network. This has to do with the location of the number not always being exactly centered.\n",
    "If the \"center\" of the numbers could be found and all the images were normalized, I imagine the performance would be similar. However, given the lower performance of the larger window, this might not be the case. Convolution nets have the bonus of focusing on small parts of the number. The larger windows probably have a hard time capturing the complexity of having more features being inside the window.\n",
    "\n",
    "As for strides, there seems to be dips when the first layer is something other than 1 when the window is large enough. For a smaller window, the performance increases with larger strides for the first layer. In both cases, the performance increased for having larger strides in the second layer. This might have to do with the data in the second layer being more reduced in dimension, so it doesn't need to try from so many different positions since it's simplified enough. \n"
   ]
  },
  {
   "cell_type": "markdown",
   "metadata": {},
   "source": [
    "### Part 2"
   ]
  },
  {
   "cell_type": "code",
   "execution_count": 19,
   "metadata": {
    "scrolled": true
   },
   "outputs": [
    {
     "name": "stdout",
     "output_type": "stream",
     "text": [
      "(n_hiddens_by_layer, n_iterations, n_conv_layers, windows, strides): ([50, 20, 10], 25, 1, [10], [2])\n",
      "NeuralNetworkClassifier_Pytorch created on cpu\n",
      "Iteration 2, cost = 0.3377, acc = 94.42\n",
      "Iteration 4, cost = 0.1525, acc = 96.66\n",
      "Iteration 6, cost = 0.1049, acc = 96.82\n",
      "Iteration 8, cost = 0.0797, acc = 97.38\n",
      "Iteration 10, cost = 0.0703, acc = 97.06\n",
      "Iteration 12, cost = 0.0592, acc = 97.50\n",
      "Iteration 14, cost = 0.0494, acc = 97.52\n",
      "Iteration 16, cost = 0.0486, acc = 97.66\n",
      "Iteration 18, cost = 0.0410, acc = 97.72\n",
      "Iteration 20, cost = 0.0357, acc = 97.48\n",
      "Iteration 22, cost = 0.0396, acc = 97.60\n",
      "Iteration 24, cost = 0.0298, acc = 97.93\n",
      "(n_hiddens_by_layer, n_iterations, n_conv_layers, windows, strides): ([100, 20], 10, 1, [25], [1])\n",
      "NeuralNetworkClassifier_Pytorch created on cpu\n",
      "Iteration 1, cost = 0.5930, acc = 91.76\n",
      "Iteration 2, cost = 0.2534, acc = 94.43\n",
      "Iteration 3, cost = 0.1769, acc = 95.78\n",
      "Iteration 4, cost = 0.1380, acc = 96.00\n",
      "Iteration 5, cost = 0.1145, acc = 96.90\n",
      "Iteration 6, cost = 0.0967, acc = 97.10\n",
      "Iteration 7, cost = 0.0826, acc = 97.07\n",
      "Iteration 8, cost = 0.0708, acc = 97.20\n",
      "Iteration 9, cost = 0.0674, acc = 97.55\n",
      "Iteration 10, cost = 0.0604, acc = 97.46\n",
      "(n_hiddens_by_layer, n_iterations, n_conv_layers, windows, strides): ([10, 10, 10, 10, 10], 15, 4, [4, 2, 2, 2], [1, 2, 1, 1])\n",
      "NeuralNetworkClassifier_Pytorch created on cpu\n",
      "Iteration 1, cost = 0.9387, acc = 89.01\n",
      "Iteration 2, cost = 0.3855, acc = 93.47\n",
      "Iteration 3, cost = 0.2183, acc = 95.71\n",
      "Iteration 4, cost = 0.1506, acc = 96.69\n",
      "Iteration 5, cost = 0.1168, acc = 97.10\n",
      "Iteration 6, cost = 0.0971, acc = 97.40\n",
      "Iteration 7, cost = 0.0842, acc = 97.70\n",
      "Iteration 8, cost = 0.0742, acc = 97.81\n",
      "Iteration 9, cost = 0.0669, acc = 97.80\n",
      "Iteration 10, cost = 0.0602, acc = 97.78\n",
      "Iteration 11, cost = 0.0547, acc = 97.82\n",
      "Iteration 12, cost = 0.0500, acc = 97.91\n",
      "Iteration 13, cost = 0.0462, acc = 97.91\n",
      "Iteration 14, cost = 0.0433, acc = 97.81\n",
      "Iteration 15, cost = 0.0414, acc = 97.70\n"
     ]
    }
   ],
   "source": [
    "def run22(n_hiddens_by_layer, n_iterations, n_conv_layers, windows, strides):\n",
    "    nnet = NeuralNetworkClassifier_Pytorch(\n",
    "        n_inputs=1,\n",
    "        n_hiddens_by_layer=n_hiddens_by_layer,\n",
    "        n_outputs=10,\n",
    "        #relu=,\n",
    "        #gpu=,\n",
    "        n_conv_layers=n_conv_layers,\n",
    "        windows=windows,\n",
    "        strides=strides,\n",
    "        input_height_width=28,\n",
    "    )\n",
    "    nnet.train(\n",
    "        Xtrain=Xtrain,\n",
    "        Ttrain=Ttrain,\n",
    "        Xtest=Xtest,\n",
    "        Ttest=Ttest,\n",
    "        n_iterations=n_iterations,\n",
    "        batch_size=100,\n",
    "        learning_rate=0.001,\n",
    "    )\n",
    "    return nnet\n",
    "\n",
    "n_hiddens_by_layer_values = [[50, 20, 10], [100, 20], [10, 10, 10, 10, 10]]\n",
    "n_iterations_values = [25, 10, 15]\n",
    "n_conv_layers_values = [1, 1, 4]\n",
    "windows_values = [[10], [25], [4, 2, 2, 2]]\n",
    "strides_values = [[2], [1], [1, 2, 1, 1]]\n",
    "\n",
    "pairs = list(zip(n_hiddens_by_layer_values, n_iterations_values, n_conv_layers_values, windows_values, strides_values))\n",
    "full_accuracy = []\n",
    "for pair in pairs:\n",
    "\n",
    "    print('(n_hiddens_by_layer, n_iterations, n_conv_layers, windows, strides):', pair)\n",
    "    nnet = run22(*pair)\n",
    "    Ytest, _, _ = nnet.use(Xtest)\n",
    "    #Ytest = Ttest  # DEBUG\n",
    "    num_correct = np.sum(Ytest == Ttest)\n",
    "    full_accuracy.append(num_correct / Ytest.shape[0])"
   ]
  },
  {
   "cell_type": "code",
   "execution_count": 26,
   "metadata": {},
   "outputs": [
    {
     "data": {
      "image/png": "[encoded data removed]",
      "text/plain": [
       "<Figure size 432x288 with 1 Axes>"
      ]
     },
     "metadata": {
      "needs_background": "light"
     },
     "output_type": "display_data"
    }
   ],
   "source": [
    "plt.title('Section 2, Part 1, Test Percentage Correct vs Windows and Strides')\n",
    "plt.xlabel('(n_hiddens_by_layer, n_iterations, n_conv_layers, windows, strides)')\n",
    "plt.ylabel('Test Percentage Correct')\n",
    "plt.xticks(range(len(pairs)), pairs, rotation=30, horizontalalignment='right')\n",
    "plt.plot(full_accuracy, 'o');"
   ]
  },
  {
   "cell_type": "code",
   "execution_count": 40,
   "metadata": {},
   "outputs": [
    {
     "name": "stdout",
     "output_type": "stream",
     "text": [
      "best combination:\n",
      "n_hiddens_by_layer: [10, 10, 10, 10, 10]\n",
      "n_iterations: 15\n",
      "n_conv_layers: 4\n",
      "windows: [4, 2, 2, 2]\n",
      "strides: [1, 2, 1, 1]\n",
      "accuracy: 0.977\n"
     ]
    }
   ],
   "source": [
    "bi = np.argmax(full_accuracy)\n",
    "best_pair = pairs[bi]\n",
    "print('best combination:')\n",
    "names = (\"n_hiddens_by_layer\", \"n_iterations\", \"n_conv_layers\", \"windows\", \"strides\")\n",
    "for name, param  in zip(names, pair):\n",
    "    print(name+\":\", param)\n",
    "print('accuracy:', full_accuracy[bi])"
   ]
  },
  {
   "cell_type": "markdown",
   "metadata": {},
   "source": [
    "The first network is supposed to be pretty large but only have one convolutional layer with large window and strides. Similar to before, it didn't perform nearly as well as the best case in the last one. It could be due to the overfitting of having too many iterations, the larger stride, or the large window.\n",
    "\n",
    "The second network performed really poorly. This is due to a short network where the 100 might be too large to capture any patterns, and the window is too large to help with this. While the window is large, I was hoping that that more units would combat the large window, but it didn't seem to work.\n",
    "\n",
    "The third network performed the best. I wanted this to have lots of convolutional layers but have small windows and strides for each of them. It seemed to capture some patterns, but it still performs worse than part 1's best. This might be because the network is too small or the windows are too small.\n",
    "\n",
    "Overall, the performance is better than the normal networks pretty consistently, even these bad networks."
   ]
  },
  {
   "cell_type": "markdown",
   "metadata": {},
   "source": [
    "## Required Section 3: Cost and Acc (20 points)"
   ]
  },
  {
   "cell_type": "markdown",
   "metadata": {},
   "source": [
    "In the output from the `train` function we see two values, one called `cost` and one called `acc`.  What is the meaning of each and why are their\n",
    "values so different?  Study the code to help you answer this question.\n",
    "\n",
    "**ANSWER:**  (20 points) \n",
    "The algorithm is trying to minimize an objective function. The value of this objective function is called the cost,\n",
    "so from the training algorithm. Here are all the important lines:\n",
    "\n",
    "    loss = torch.nn.CrossEntropyLoss(reduction='mean')\n",
    "    for i in range(n_iterations):\n",
    "        cost = 0.\n",
    "        num_batches = n_examples // batch_size\n",
    "        for k in range(num_batches):\n",
    "            output = loss.forward(Y, Ttrain_batch)\n",
    "            cost += output.item()\n",
    "        if (i + 1) % print_every == 0:\n",
    "            print('Iteration {:d}, cost = {:.4f}, acc = {:.2f}'.format(i + 1, cost / num_batches, 100. * np.mean(classes == Ttest)))\n",
    "\n",
    "The cost is reset for every iteration, and the cost is calculated for some number of batches and accumulated in the\n",
    "cost variable. Therefore, the cost number represents the average cost per batch for that iteration.\n",
    "\n",
    "The cross entropy is calculated by the following formula (according to wikipedia):\n",
    "\n",
    "$$\n",
    "H(p, q) = - \\sum_{x \\in X} p(x) \\log q(x)\n",
    "$$\n",
    "\n",
    "where $x$ is the class, $X$ is the set of possible classes, $p$ is the actual probability distribution, and $q$ is the model's approximation of this distribution, and $H$ is the loss. The model's approximation of the distribution is the softmax of its output matrix, and this is calculated for each prediction. Since we have the true labels and know what it should be, $p$ is a boring distribution which always equals 1 for the class of the data point and 0 otherwise. Therefore, our equation simplifies to  \n",
    "\n",
    "$$\n",
    "H(p, q) = - \\log q(x)\n",
    "$$\n",
    "\n",
    "where $x$ is the true class of the data point. $-\\log q$ is a decreasing function with $q$. $q$ increases as the model becomes more accurate (predicts high probabilities for the true class). Since $q$ is a probability distribution, it has a domain of $[0, 1]$, and $\\log [0, 1] = (-\\infty, 0]$. Therefore, as the model becomes more accurate, $q$ increases, and the $\\log$ approaches zero. Thus, the loss also converges to zero when summed over a set of predictions, i.e., in the iteration. \n",
    "\n",
    "Cross entropy has the added bonus of taking the confidence of the model into account. Even if the model predicts correctly, if it's probability was 50%, we could still have a loss greater than 0 since it should be 100%. This might suggest that loss is a better measurement of innacuracy (see below). Below, I found that loss is still high even though accuracy can still be strong.\n",
    "\n",
    "The accuracy is calculated from this piece of code: `100. * np.mean(classes == Ttest)`. `classes` represents the \n",
    "class predictions after the iteration. `classes == Ttest` will return an array of booleans. `np.mean` will count the \n",
    "`True`'s (since they equal 1 and it sums the `True`'s) and divide them by the number of predictions in the class \n",
    "resulting in the percent accuracy (in decimal form). It's multiplied by 100 to convert it to percentage of correct \n",
    "predictions.\n",
    "\n",
    "In summary, while both loss and accuracy represent the same thing, the correctness of the model, loss is what we are trying to optimize and roughly measures the models incorrectness (lower is better), and accuracy is a measure of accuracy (how often it is correct, higher is better). Also, loss could still be non zero if the model predicts perfectly since it takes into account when the model isn't 100% confident. \n",
    "\n",
    "Everything below is some experimenting I did because I was curious. I wanted to show that cost can be high if the model is just guessing the most common class. *You don't have to read it since it's not really part of the assignment.*"
   ]
  },
  {
   "cell_type": "code",
   "execution_count": 22,
   "metadata": {},
   "outputs": [
    {
     "name": "stdout",
     "output_type": "stream",
     "text": [
      "NeuralNetworkClassifier_Pytorch created on cpu\n",
      "Iteration 10, cost = 0.1988, acc = 94.93\n",
      "Iteration 20, cost = 0.1984, acc = 94.93\n",
      "Iteration 30, cost = 0.1982, acc = 94.93\n",
      "Iteration 40, cost = 0.1981, acc = 94.93\n",
      "Iteration 50, cost = 0.1980, acc = 94.93\n",
      "Iteration 60, cost = 0.1979, acc = 94.93\n",
      "Iteration 70, cost = 0.1979, acc = 94.93\n",
      "Iteration 80, cost = 0.1979, acc = 94.93\n",
      "Iteration 90, cost = 0.1979, acc = 94.93\n",
      "Iteration 100, cost = 0.1979, acc = 94.93\n",
      "shape of X and T test\n",
      "(3000, 1, 2, 2) (3000,)\n",
      "distribution of q (model) for testing set\n",
      "[0.0495176  0.95048267]\n",
      "distribution of p (actual) for testing set\n",
      "[0.05066667 0.94933333]\n",
      "distribution \n",
      "accuracy using max prob: 0.9493333333333334\n"
     ]
    }
   ],
   "source": [
    "N = 10000\n",
    "split = .95\n",
    "test_train_split = .7\n",
    "test_train_splitN = int(N * test_train_split)\n",
    "splitN = int(N*split)\n",
    "XTest = np.random.rand(N, 4) # already random so no need to shuffle\n",
    "TTest = np.ones(N)\n",
    "TTest[splitN:] = 0\n",
    "np.random.shuffle(TTest)\n",
    "\n",
    "XtrainTest=XTest[:test_train_splitN, None, :].reshape(-1, 1, 2, 2)\n",
    "TtrainTest=TTest[:test_train_splitN]\n",
    "XtestTest=XTest[test_train_splitN:, None, :].reshape(-1, 1, 2, 2)\n",
    "TtestTest=TTest[test_train_splitN:]\n",
    "# This represents a random distribution of 95% class 1 and 5% class 0. p(1) = .95 and p(0) = .5\n",
    "\n",
    "nnet = NeuralNetworkClassifier_Pytorch(\n",
    "    n_inputs=4,\n",
    "    n_hiddens_by_layer=[10, 10],\n",
    "    n_outputs=2\n",
    ")\n",
    "nnet.train(\n",
    "    Xtrain=XtrainTest,\n",
    "    Ttrain=TtrainTest,\n",
    "    Xtest=XtestTest,\n",
    "    Ttest=TtestTest,\n",
    "    n_iterations=100,\n",
    "    batch_size=100,\n",
    "    learning_rate=0.001\n",
    ")\n",
    "\n",
    "def calc_classes_from_prob(prob):\n",
    "    prob, _ = prob # get prob of 0, should be near 0.05\n",
    "    if np.random.rand() > prob:\n",
    "        return 1\n",
    "    else:\n",
    "        return 0\n",
    "    \n",
    "\n",
    "print(\"shape of X and T test\")\n",
    "print(XtestTest.shape, TtestTest.shape)\n",
    "classes, probs, _ = nnet.use(XtestTest)\n",
    "real_classes = [calc_classes_from_prob(prob) for prob in probs]\n",
    "print('distribution of q (model) for testing set')\n",
    "q = np.mean(probs, axis=0)\n",
    "print(q)\n",
    "print('distribution of p (actual) for testing set')\n",
    "p = np.array([1- np.mean(TtestTest), np.mean(TtestTest)])\n",
    "print(p)\n",
    "print('distribution ')\n",
    "print('accuracy using max prob:', np.mean(classes==TtestTest))"
   ]
  },
  {
   "cell_type": "markdown",
   "metadata": {},
   "source": [
    "From these results, we can see that the accuracy is really high 95.7%, and the model's approximation of the distribution is right, but the cost is really high compared to values for actually correlated data (e.g., 0.0xxx)."
   ]
  },
  {
   "cell_type": "markdown",
   "metadata": {},
   "source": [
    "If we sample from the distribution to select our class (as opposed to just choosing the maximum, we can see our accuracy drop. This is more interesting than relavent to this discussion."
   ]
  },
  {
   "cell_type": "code",
   "execution_count": 23,
   "metadata": {},
   "outputs": [
    {
     "name": "stdout",
     "output_type": "stream",
     "text": [
      "mean accuracy sampling from q (n=100): 0.90511\n"
     ]
    }
   ],
   "source": [
    "accs = []\n",
    "n=100\n",
    "for _ in range(n):\n",
    "    real_classes = [calc_classes_from_prob(prob) for prob in probs]\n",
    "    acc = np.mean(real_classes == TtestTest)\n",
    "    accs.append(acc)\n",
    "\n",
    "print('mean accuracy sampling from q (n={}): {}'.format(n, np.mean(accs)))"
   ]
  },
  {
   "cell_type": "markdown",
   "metadata": {},
   "source": [
    "To calculate the actual cost of the testing set, we have to do it manually:"
   ]
  },
  {
   "cell_type": "markdown",
   "metadata": {},
   "source": [
    "\n",
    "$$\n",
    "\\begin{align*}\n",
    "H(p, q) &= - \\sum_{x \\in X} p(x) \\log q(x) \\\\\n",
    "&= -\\log(\\prod_{x \\in X}q(x)^{p(x)})\n",
    "\\end{align*}\n",
    "$$\n",
    "\n",
    "in the cost calculation p(x) = 1 if $x$ is the right class, so\n",
    "\n",
    "$$\n",
    "\\begin{align*}\n",
    "H(p, q) &= -\\log(\\prod_{x \\in X}q(x)^{p(x)}) \\\\\n",
    "&= -\\log(q(x))\n",
    "\\end{align*}\n",
    "$$\n",
    "\n",
    "where $x$ is the correct class. This can be used to calculate the cost of the testing set `Ttest` given `probs` from\n",
    "`nnet.use(Xtest)`. (This assumes Ttest's value is the index of the class in probs; easily\n",
    "the case, but worth noting).\n",
    "\n",
    "    cost = np.mean(-np.log(probs[:, Ttest.astype(int)]))"
   ]
  },
  {
   "cell_type": "code",
   "execution_count": 24,
   "metadata": {},
   "outputs": [
    {
     "name": "stdout",
     "output_type": "stream",
     "text": [
      "actual cost: 0.2005197196711566\n",
      "objective function cost: 0.20051944\n"
     ]
    }
   ],
   "source": [
    "cost = np.mean(np.sum(-p * np.log(probs), axis=1))\n",
    "obj_cost = np.mean(-np.log(probs[:, TtestTest.astype(int)]))\n",
    "print('actual cost:', cost)\n",
    "print('objective function cost:', obj_cost)"
   ]
  },
  {
   "cell_type": "markdown",
   "metadata": {},
   "source": [
    "Something I wasn't expecting, the values are nearly identical. Not sure why this is.. One thing we do know is that the cost is high despite the accuracy being really good.\n",
    "\n",
    "Something I'm wondering is that the high cost despite perfectly capturing the distribution is due to the fact\n",
    "that T is a random variable as opposed to having p(x) = 1 given X. I'm not a statisititian, so I don't know how to figure this out."
   ]
  }
 ],
 "metadata": {
  "kernelspec": {
   "display_name": "Python 3",
   "language": "python",
   "name": "python3"
  },
  "language_info": {
   "codemirror_mode": {
    "name": "ipython",
    "version": 3
   },
   "file_extension": ".py",
   "mimetype": "text/x-python",
   "name": "python",
   "nbconvert_exporter": "python",
   "pygments_lexer": "ipython3",
   "version": "3.6.5"
  }
 },
 "nbformat": 4,
 "nbformat_minor": 2
}
